{
 "cells": [
  {
   "cell_type": "code",
   "execution_count": 22,
   "metadata": {},
   "outputs": [
    {
     "name": "stdout",
     "output_type": "stream",
     "text": [
      "72511\n",
      "212117\n"
     ]
    }
   ],
   "source": [
    "def getSumArray():\n",
    "    with open(\"input\") as input:\n",
    "        inputArray = input.read().split('\\n\\n')\n",
    "        # print(inputArray)\n",
    "        inputMatrix = [entry.split('\\n') for entry in inputArray]\n",
    "        # print(inputArray2)\n",
    "        intMatrix = [[int(i) for i in j] for j in inputMatrix]\n",
    "        # print(intMatrix)\n",
    "        sumArray = [sum(entry) for entry in intMatrix]\n",
    "        # print(sumArray)\n",
    "        return sumArray\n",
    "\n",
    "def solve1():\n",
    "    sumArray = getSumArray()\n",
    "    maxInt = max(sumArray)\n",
    "    print(maxInt)\n",
    "\n",
    "def solve2():\n",
    "    sumArray = getSumArray()\n",
    "    top3 = sum(sorted(sumArray)[-3:])\n",
    "    print(top3)\n",
    "\n",
    "\n",
    "solve1()\n",
    "solve2()"
   ]
  }
 ],
 "metadata": {
  "kernelspec": {
   "display_name": "Python 3.9.6 64-bit",
   "language": "python",
   "name": "python3"
  },
  "language_info": {
   "codemirror_mode": {
    "name": "ipython",
    "version": 3
   },
   "file_extension": ".py",
   "mimetype": "text/x-python",
   "name": "python",
   "nbconvert_exporter": "python",
   "pygments_lexer": "ipython3",
   "version": "3.9.6"
  },
  "orig_nbformat": 4,
  "vscode": {
   "interpreter": {
    "hash": "31f2aee4e71d21fbe5cf8b01ff0e069b9275f58929596ceb00d14d90e3e16cd6"
   }
  }
 },
 "nbformat": 4,
 "nbformat_minor": 2
}
