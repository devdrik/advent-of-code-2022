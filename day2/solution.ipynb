{
 "cells": [
  {
   "cell_type": "code",
   "execution_count": 69,
   "metadata": {},
   "outputs": [],
   "source": [
    "def getInputArray():\n",
    "    with open(\"input\") as input:\n",
    "        return [line.strip() for line in input.readlines()]\n",
    "\n",
    "def getInputMatrix(inputArray):\n",
    "    return [entry.split(' ') for entry in inputArray]\n"
   ]
  },
  {
   "cell_type": "code",
   "execution_count": 70,
   "metadata": {},
   "outputs": [],
   "source": [
    "def getHandPoints(hand):\n",
    "    if hand == 'X':\n",
    "        return 1\n",
    "    elif hand == 'Y':\n",
    "        return 2\n",
    "    if hand == 'Z':\n",
    "        return 3\n",
    "\n",
    "def getWinPoints(round):\n",
    "    elf = round[0]\n",
    "    me = round[1]\n",
    "    if elf == 'A':\n",
    "        if me == 'Y':\n",
    "            return 6\n",
    "        elif me == 'X':\n",
    "            return 3\n",
    "        else:\n",
    "            return 0\n",
    "    elif elf == 'B':\n",
    "        if me == 'Z':\n",
    "            return 6\n",
    "        elif me == 'Y':\n",
    "            return 3\n",
    "        else:\n",
    "            return 0\n",
    "    elif elf == 'C':\n",
    "        if me == 'X':\n",
    "            return 6\n",
    "        elif me == 'Z':\n",
    "            return 3\n",
    "        else:\n",
    "            return 0\n",
    "\n",
    "def evalRound(round):\n",
    "    points = getHandPoints(round[1]) + getWinPoints(round)\n",
    "    return points\n",
    "\n",
    "def solve1():\n",
    "    allRounds = getInputMatrix(getInputArray())\n",
    "    allResults = map(evalRound, allRounds)\n",
    "    return sum(allResults)"
   ]
  },
  {
   "cell_type": "code",
   "execution_count": 71,
   "metadata": {},
   "outputs": [],
   "source": [
    "def transformRound(round):\n",
    "    elf = round[0]\n",
    "    result = round[1]\n",
    "    me = 0\n",
    "    if elf == 'A':\n",
    "        if result == 'X':\n",
    "            me = 'Z'\n",
    "        elif result == 'Y':\n",
    "            me = 'X'\n",
    "        elif result == 'Z':\n",
    "            me = 'Y'\n",
    "    elif elf == 'B':\n",
    "        if result == 'X':\n",
    "            me = 'X'\n",
    "        elif result == 'Y':\n",
    "            me = 'Y'\n",
    "        elif result == 'Z':\n",
    "            me = 'Z'\n",
    "    elif elf == 'C':\n",
    "        if result == 'X':\n",
    "            me = 'Y'\n",
    "        elif result == 'Y':\n",
    "            me = 'Z'\n",
    "        elif result == 'Z':\n",
    "            me = 'X'\n",
    "    return [elf, me]\n",
    "\n",
    "def solve2():\n",
    "    allRounds = getInputMatrix(getInputArray())\n",
    "    transformRounds = map(transformRound, allRounds)\n",
    "    allResults = map(evalRound, transformRounds)\n",
    "    return sum(allResults)\n"
   ]
  },
  {
   "cell_type": "code",
   "execution_count": 72,
   "metadata": {},
   "outputs": [
    {
     "name": "stdout",
     "output_type": "stream",
     "text": [
      "15422\n",
      "15442\n"
     ]
    }
   ],
   "source": [
    "print(solve1())\n",
    "\n",
    "print(solve2())"
   ]
  }
 ],
 "metadata": {
  "kernelspec": {
   "display_name": "Python 3.9.6 64-bit",
   "language": "python",
   "name": "python3"
  },
  "language_info": {
   "codemirror_mode": {
    "name": "ipython",
    "version": 3
   },
   "file_extension": ".py",
   "mimetype": "text/x-python",
   "name": "python",
   "nbconvert_exporter": "python",
   "pygments_lexer": "ipython3",
   "version": "3.9.6"
  },
  "orig_nbformat": 4,
  "vscode": {
   "interpreter": {
    "hash": "31f2aee4e71d21fbe5cf8b01ff0e069b9275f58929596ceb00d14d90e3e16cd6"
   }
  }
 },
 "nbformat": 4,
 "nbformat_minor": 2
}
