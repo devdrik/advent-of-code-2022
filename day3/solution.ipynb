{
 "cells": [
  {
   "cell_type": "code",
   "execution_count": 47,
   "metadata": {},
   "outputs": [],
   "source": [
    "def getInputArray():\n",
    "    with open(\"input\") as input:\n",
    "        return [line.strip() for line in input.readlines()]\n",
    "\n",
    "def getInputMatrix(inputArray):\n",
    "    return [[ entry[:int(len(entry)/2)], entry[int(len(entry)/2):]] for entry in inputArray]\n"
   ]
  },
  {
   "cell_type": "code",
   "execution_count": 48,
   "metadata": {},
   "outputs": [],
   "source": [
    "def getEqualChar(tuple):\n",
    "    for char in tuple[0]:\n",
    "        if char in tuple[1]:\n",
    "            return char\n",
    "\n",
    "def getCharVAlue(char):\n",
    "    return ord(char) - 64 + 26 if char.isupper() else ord(char) - 96\n",
    "\n",
    "def solve1():\n",
    "    inputMatrix = getInputMatrix(getInputArray())\n",
    "    return sum([getCharVAlue(getEqualChar(entry)) for entry in inputMatrix])"
   ]
  },
  {
   "cell_type": "code",
   "execution_count": 50,
   "metadata": {},
   "outputs": [
    {
     "data": {
      "text/plain": [
       "8072"
      ]
     },
     "execution_count": 50,
     "metadata": {},
     "output_type": "execute_result"
    }
   ],
   "source": [
    "solve1()"
   ]
  },
  {
   "cell_type": "code",
   "execution_count": null,
   "metadata": {},
   "outputs": [],
   "source": []
  }
 ],
 "metadata": {
  "kernelspec": {
   "display_name": "Python 3.9.6 64-bit",
   "language": "python",
   "name": "python3"
  },
  "language_info": {
   "codemirror_mode": {
    "name": "ipython",
    "version": 3
   },
   "file_extension": ".py",
   "mimetype": "text/x-python",
   "name": "python",
   "nbconvert_exporter": "python",
   "pygments_lexer": "ipython3",
   "version": "3.9.6"
  },
  "orig_nbformat": 4,
  "vscode": {
   "interpreter": {
    "hash": "31f2aee4e71d21fbe5cf8b01ff0e069b9275f58929596ceb00d14d90e3e16cd6"
   }
  }
 },
 "nbformat": 4,
 "nbformat_minor": 2
}
