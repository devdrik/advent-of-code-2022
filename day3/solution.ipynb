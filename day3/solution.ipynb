{
 "cells": [
  {
   "cell_type": "code",
   "execution_count": 1,
   "metadata": {},
   "outputs": [],
   "source": [
    "import numpy as np"
   ]
  },
  {
   "cell_type": "code",
   "execution_count": 40,
   "metadata": {},
   "outputs": [],
   "source": [
    "def getInputArray():\n",
    "    with open(\"input\") as input:\n",
    "        return [line.strip() for line in input.readlines()]\n",
    "\n",
    "def getInputMatrix(inputArray):\n",
    "    return [[ entry[:int(len(entry)/2)], entry[int(len(entry)/2):]] for entry in inputArray]\n",
    "\n",
    "def getInputMatrixtTriple(inputArray):\n",
    "    return np.reshape(inputArray, [-1, 3])\n"
   ]
  },
  {
   "cell_type": "code",
   "execution_count": 41,
   "metadata": {},
   "outputs": [],
   "source": [
    "def getEqualChar(tuple):\n",
    "    for char in tuple[0]:\n",
    "        if char in tuple[1]:\n",
    "            return char\n",
    "\n",
    "def getCharVAlue(char):\n",
    "    return ord(char) - 64 + 26 if char.isupper() else ord(char) - 96\n",
    "\n",
    "def solve1():\n",
    "    inputMatrix = getInputMatrix(getInputArray())\n",
    "    return sum([getCharVAlue(getEqualChar(entry)) for entry in inputMatrix])"
   ]
  },
  {
   "cell_type": "code",
   "execution_count": 47,
   "metadata": {},
   "outputs": [],
   "source": [
    "def getEqualCharInTriple(triple):\n",
    "    for char in triple[0]:\n",
    "        if char in triple[1] and char in triple[2]:\n",
    "            return char\n",
    "\n",
    "def solve2():\n",
    "    inputMatrix = getInputMatrixtTriple(getInputArray())\n",
    "    print(sum([getCharVAlue(getEqualCharInTriple(entry)) for entry in inputMatrix]))"
   ]
  },
  {
   "cell_type": "code",
   "execution_count": 48,
   "metadata": {},
   "outputs": [
    {
     "name": "stdout",
     "output_type": "stream",
     "text": [
      "8072\n",
      "2567\n"
     ]
    }
   ],
   "source": [
    "print(solve1())\n",
    "solve2()"
   ]
  }
 ],
 "metadata": {
  "kernelspec": {
   "display_name": "Python 3.9.6 ('.venv': venv)",
   "language": "python",
   "name": "python3"
  },
  "language_info": {
   "codemirror_mode": {
    "name": "ipython",
    "version": 3
   },
   "file_extension": ".py",
   "mimetype": "text/x-python",
   "name": "python",
   "nbconvert_exporter": "python",
   "pygments_lexer": "ipython3",
   "version": "3.9.6"
  },
  "orig_nbformat": 4,
  "vscode": {
   "interpreter": {
    "hash": "6e9a8e7a7a08dfeaf706dc1d40c7f9413235793c46a4133ef4539bb6cafba165"
   }
  }
 },
 "nbformat": 4,
 "nbformat_minor": 2
}
