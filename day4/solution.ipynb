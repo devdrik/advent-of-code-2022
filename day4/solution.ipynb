{
 "cells": [
  {
   "cell_type": "code",
   "execution_count": 21,
   "metadata": {},
   "outputs": [],
   "source": [
    "import re"
   ]
  },
  {
   "cell_type": "code",
   "execution_count": 96,
   "metadata": {},
   "outputs": [],
   "source": [
    "def getInputArray():\n",
    "    with open(\"input\") as input:\n",
    "        return [line.strip() for line in input.readlines()]\n",
    "\n",
    "def getInputMatrix(inputArray):\n",
    "    stringMatrix = [ re.split(',|-',entry) for entry in inputArray ]\n",
    "    return [[ int(entry) for entry in row ] for row in stringMatrix ]\n"
   ]
  },
  {
   "cell_type": "code",
   "execution_count": 97,
   "metadata": {},
   "outputs": [],
   "source": [
    "def getSets(entry):\n",
    "    firstSet = set(range(entry[0], entry[1] + 1))\n",
    "    secondSet = set(range(entry[2], entry[3] + 1))\n",
    "    return firstSet, secondSet\n",
    "\n",
    "def checkIntersection(entry):\n",
    "    firstSet, secondSet = getSets(entry)\n",
    "    return firstSet.issubset(secondSet) or secondSet.issubset(firstSet)\n",
    "\n",
    "def solve1():\n",
    "    inputMatrix = getInputMatrix(getInputArray())\n",
    "    pairsSum = 0\n",
    "    for entry in inputMatrix:\n",
    "        if checkIntersection(entry):\n",
    "            pairsSum += 1\n",
    "    return pairsSum"
   ]
  },
  {
   "cell_type": "code",
   "execution_count": 98,
   "metadata": {},
   "outputs": [],
   "source": [
    "def checkOverlap(entry):\n",
    "    firstSet, secondSet = getSets(entry)\n",
    "    return len(firstSet.intersection(secondSet)) > 0\n",
    "\n",
    "def solve2():\n",
    "    inputMatrix = getInputMatrix(getInputArray())\n",
    "    pairsSum = 0\n",
    "    for entry in inputMatrix:\n",
    "        if checkOverlap(entry):\n",
    "            pairsSum += 1\n",
    "    return pairsSum"
   ]
  },
  {
   "cell_type": "code",
   "execution_count": 99,
   "metadata": {},
   "outputs": [
    {
     "name": "stdout",
     "output_type": "stream",
     "text": [
      "459\n",
      "779\n"
     ]
    }
   ],
   "source": [
    "print(solve1())\n",
    "print(solve2())"
   ]
  }
 ],
 "metadata": {
  "kernelspec": {
   "display_name": "Python 3.9.6 ('.venv': venv)",
   "language": "python",
   "name": "python3"
  },
  "language_info": {
   "codemirror_mode": {
    "name": "ipython",
    "version": 3
   },
   "file_extension": ".py",
   "mimetype": "text/x-python",
   "name": "python",
   "nbconvert_exporter": "python",
   "pygments_lexer": "ipython3",
   "version": "3.9.6"
  },
  "orig_nbformat": 4,
  "vscode": {
   "interpreter": {
    "hash": "21c7c673c3176f1e9d29e374a9d7dc4966212fb8f9f5a1514d453b9ccf14e348"
   }
  }
 },
 "nbformat": 4,
 "nbformat_minor": 2
}
