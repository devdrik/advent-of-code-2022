{
 "cells": [
  {
   "cell_type": "code",
   "execution_count": 79,
   "metadata": {},
   "outputs": [],
   "source": [
    "def getInput():\n",
    "    with open(\"input\") as input:\n",
    "        return input.read()\n",
    "    \n",
    "def getInputTest():\n",
    "    # return \"bvwbjplbgvbhsrlpgdmjqwftvncz\" # first marker after character 5\n",
    "    # return \"nppdvjthqldpwncqszvftbrmjlhg\" # first marker after character 6\n",
    "    # return \"nznrnfrfntjfmvfwmzdfjlvtqnbhcprsg\" # first marker after character 10\n",
    "    return \"zcfzfwzzqfrljwzlrfnpqdbhtmscgvjw\" # first marker after character 11\n",
    "    \n",
    "def getInputTest2():\n",
    "    # return \"mjqjpqmgbljsphdztnvjfqwrcgsmlb\" # first marker after character 19\n",
    "    # return \"bvwbjplbgvbhsrlpgdmjqwftvncz\" # first marker after character 23\n",
    "    # return \"nppdvjthqldpwncqszvftbrmjlhg\" # first marker after character 23\n",
    "    # return \"nznrnfrfntjfmvfwmzdfjlvtqnbhcprsg\" # first marker after character 29\n",
    "    return \"zcfzfwzzqfrljwzlrfnpqdbhtmscgvjw\" # first marker after character 26\n",
    "    \n"
   ]
  },
  {
   "cell_type": "code",
   "execution_count": 80,
   "metadata": {},
   "outputs": [],
   "source": [
    "def isAllDifferentChar(seq):\n",
    "    return len(seq) == len(set(seq))\n",
    "\n",
    "def checkSeq(seq, length):\n",
    "    for i in range(len(seq)):\n",
    "        if isAllDifferentChar(seq[i:i+length]):\n",
    "            return i+length"
   ]
  },
  {
   "cell_type": "code",
   "execution_count": 81,
   "metadata": {},
   "outputs": [],
   "source": [
    "def solveTest1():\n",
    "    seq=getInputTest()\n",
    "    print(\"Test 1 result: \", checkSeq(seq, 4))\n",
    "    \n",
    "def solve1():\n",
    "    seq=getInput()\n",
    "    print(\"Solution 1 result: \", checkSeq(seq, 4))\n",
    "\n",
    "def solveTest2():\n",
    "    seq=getInputTest2()\n",
    "    return print(\"Test 2 result: \", checkSeq(seq, 14))\n",
    "\n",
    "def solve2():\n",
    "    seq=getInput()\n",
    "    return print(\"Solution 2 result: \", checkSeq(seq, 14))"
   ]
  },
  {
   "cell_type": "code",
   "execution_count": 82,
   "metadata": {},
   "outputs": [
    {
     "name": "stdout",
     "output_type": "stream",
     "text": [
      "Test 1 result:  11\n",
      "Solution 1 result:  1093\n",
      "Test 2 result:  26\n",
      "Solution 2 result:  3534\n"
     ]
    }
   ],
   "source": [
    "solveTest1()\n",
    "solve1()\n",
    "solveTest2()\n",
    "solve2()"
   ]
  }
 ],
 "metadata": {
  "kernelspec": {
   "display_name": "Python 3.9.6 ('.venv': venv)",
   "language": "python",
   "name": "python3"
  },
  "language_info": {
   "codemirror_mode": {
    "name": "ipython",
    "version": 3
   },
   "file_extension": ".py",
   "mimetype": "text/x-python",
   "name": "python",
   "nbconvert_exporter": "python",
   "pygments_lexer": "ipython3",
   "version": "3.9.6"
  },
  "orig_nbformat": 4,
  "vscode": {
   "interpreter": {
    "hash": "b6191a95032d269cd62205748bd72858d265f4ca9c03d1cdbb8d7ab1e823cf3b"
   }
  }
 },
 "nbformat": 4,
 "nbformat_minor": 2
}
